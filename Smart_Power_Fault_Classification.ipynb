{
  "nbformat": 4,
  "nbformat_minor": 0,
  "metadata": {
    "colab": {
      "provenance": []
    },
    "kernelspec": {
      "name": "python3",
      "display_name": "Python 3"
    },
    "language_info": {
      "name": "python"
    }
  },
  "cells": [
    {
      "cell_type": "code",
      "execution_count": 6,
      "metadata": {
        "colab": {
          "base_uri": "https://localhost:8080/"
        },
        "id": "GXo_Egy78B03",
        "outputId": "8566add3-55c0-42d2-f461-c9230a2600d8"
      },
      "outputs": [
        {
          "output_type": "execute_result",
          "data": {
            "text/plain": [
              "['classData.csv', 'detect_dataset.csv']"
            ]
          },
          "metadata": {},
          "execution_count": 6
        }
      ],
      "source": [
        "import zipfile\n",
        "import os\n",
        "\n",
        "# Path to the uploaded ZIP file\n",
        "zip_path = '/content/electrical-fault-detection-and-classification.zip.zip'\n",
        "\n",
        "# Extract it\n",
        "with zipfile.ZipFile(zip_path, 'r') as zip_ref:\n",
        "    zip_ref.extractall('/content/electrical_fault_data')\n",
        "\n",
        "# Check extracted files\n",
        "os.listdir('/content/electrical_fault_data')\n"
      ]
    },
    {
      "cell_type": "code",
      "source": [
        "import pandas as pd\n",
        "\n",
        "# Load each dataset\n",
        "df_class = pd.read_csv('/content/electrical_fault_data/classData.csv')\n",
        "df_detect = pd.read_csv('/content/electrical_fault_data/detect_dataset.csv')\n",
        "\n",
        "# Preview first few rows\n",
        "print(\"👉 classData.csv\")\n",
        "print(df_class.head(), \"\\n\")\n",
        "\n",
        "print(\"👉 detect_dataset.csv\")\n",
        "print(df_detect.head())\n"
      ],
      "metadata": {
        "colab": {
          "base_uri": "https://localhost:8080/"
        },
        "id": "sKOLhPOhIrhB",
        "outputId": "2390e58a-c9e2-4f95-a17c-4460a768eb43"
      },
      "execution_count": 7,
      "outputs": [
        {
          "output_type": "stream",
          "name": "stdout",
          "text": [
            "👉 classData.csv\n",
            "   G  C  B  A          Ia          Ib          Ic        Va        Vb  \\\n",
            "0  1  0  0  1 -151.291812   -9.677452   85.800162  0.400750 -0.132935   \n",
            "1  1  0  0  1 -336.186183  -76.283262   18.328897  0.312732 -0.123633   \n",
            "2  1  0  0  1 -502.891583 -174.648023  -80.924663  0.265728 -0.114301   \n",
            "3  1  0  0  1 -593.941905 -217.703359 -124.891924  0.235511 -0.104940   \n",
            "4  1  0  0  1 -643.663617 -224.159427 -132.282815  0.209537 -0.095554   \n",
            "\n",
            "         Vc  \n",
            "0 -0.267815  \n",
            "1 -0.189099  \n",
            "2 -0.151428  \n",
            "3 -0.130570  \n",
            "4 -0.113983   \n",
            "\n",
            "👉 detect_dataset.csv\n",
            "   Output (S)          Ia        Ib          Ic        Va        Vb        Vc  \\\n",
            "0           0 -170.472196  9.219613  161.252583  0.054490 -0.659921  0.605431   \n",
            "1           0 -122.235754  6.168667  116.067087  0.102000 -0.628612  0.526202   \n",
            "2           0  -90.161474  3.813632   86.347841  0.141026 -0.605277  0.464251   \n",
            "3           0  -79.904916  2.398803   77.506112  0.156272 -0.602235  0.445963   \n",
            "4           0  -63.885255  0.590667   63.294587  0.180451 -0.591501  0.411050   \n",
            "\n",
            "   Unnamed: 7  Unnamed: 8  \n",
            "0         NaN         NaN  \n",
            "1         NaN         NaN  \n",
            "2         NaN         NaN  \n",
            "3         NaN         NaN  \n",
            "4         NaN         NaN  \n"
          ]
        }
      ]
    },
    {
      "cell_type": "code",
      "source": [
        "import pandas as pd\n",
        "\n",
        "# Load the dataset\n",
        "df = pd.read_csv('/content/electrical_fault_data/detect_dataset.csv')\n",
        "df = df.dropna(axis=1, how='all')  # clean any fully-empty columns\n",
        "\n",
        "# Check full shape\n",
        "print(\"✅ Dataset loaded successfully!\")\n",
        "print(\"Rows and columns:\", df.shape)\n",
        "\n",
        "# Show first 5 rows\n",
        "df.head()\n"
      ],
      "metadata": {
        "colab": {
          "base_uri": "https://localhost:8080/",
          "height": 241
        },
        "id": "zycRgZ_SRlex",
        "outputId": "d4c6e375-b14a-4a58-aecf-a34ececce34c"
      },
      "execution_count": 9,
      "outputs": [
        {
          "output_type": "stream",
          "name": "stdout",
          "text": [
            "✅ Dataset loaded successfully!\n",
            "Rows and columns: (12001, 7)\n"
          ]
        },
        {
          "output_type": "execute_result",
          "data": {
            "text/plain": [
              "   Output (S)          Ia        Ib          Ic        Va        Vb        Vc\n",
              "0           0 -170.472196  9.219613  161.252583  0.054490 -0.659921  0.605431\n",
              "1           0 -122.235754  6.168667  116.067087  0.102000 -0.628612  0.526202\n",
              "2           0  -90.161474  3.813632   86.347841  0.141026 -0.605277  0.464251\n",
              "3           0  -79.904916  2.398803   77.506112  0.156272 -0.602235  0.445963\n",
              "4           0  -63.885255  0.590667   63.294587  0.180451 -0.591501  0.411050"
            ],
            "text/html": [
              "\n",
              "  <div id=\"df-18c109f8-b70b-4f27-ba28-82be4c59ef8a\" class=\"colab-df-container\">\n",
              "    <div>\n",
              "<style scoped>\n",
              "    .dataframe tbody tr th:only-of-type {\n",
              "        vertical-align: middle;\n",
              "    }\n",
              "\n",
              "    .dataframe tbody tr th {\n",
              "        vertical-align: top;\n",
              "    }\n",
              "\n",
              "    .dataframe thead th {\n",
              "        text-align: right;\n",
              "    }\n",
              "</style>\n",
              "<table border=\"1\" class=\"dataframe\">\n",
              "  <thead>\n",
              "    <tr style=\"text-align: right;\">\n",
              "      <th></th>\n",
              "      <th>Output (S)</th>\n",
              "      <th>Ia</th>\n",
              "      <th>Ib</th>\n",
              "      <th>Ic</th>\n",
              "      <th>Va</th>\n",
              "      <th>Vb</th>\n",
              "      <th>Vc</th>\n",
              "    </tr>\n",
              "  </thead>\n",
              "  <tbody>\n",
              "    <tr>\n",
              "      <th>0</th>\n",
              "      <td>0</td>\n",
              "      <td>-170.472196</td>\n",
              "      <td>9.219613</td>\n",
              "      <td>161.252583</td>\n",
              "      <td>0.054490</td>\n",
              "      <td>-0.659921</td>\n",
              "      <td>0.605431</td>\n",
              "    </tr>\n",
              "    <tr>\n",
              "      <th>1</th>\n",
              "      <td>0</td>\n",
              "      <td>-122.235754</td>\n",
              "      <td>6.168667</td>\n",
              "      <td>116.067087</td>\n",
              "      <td>0.102000</td>\n",
              "      <td>-0.628612</td>\n",
              "      <td>0.526202</td>\n",
              "    </tr>\n",
              "    <tr>\n",
              "      <th>2</th>\n",
              "      <td>0</td>\n",
              "      <td>-90.161474</td>\n",
              "      <td>3.813632</td>\n",
              "      <td>86.347841</td>\n",
              "      <td>0.141026</td>\n",
              "      <td>-0.605277</td>\n",
              "      <td>0.464251</td>\n",
              "    </tr>\n",
              "    <tr>\n",
              "      <th>3</th>\n",
              "      <td>0</td>\n",
              "      <td>-79.904916</td>\n",
              "      <td>2.398803</td>\n",
              "      <td>77.506112</td>\n",
              "      <td>0.156272</td>\n",
              "      <td>-0.602235</td>\n",
              "      <td>0.445963</td>\n",
              "    </tr>\n",
              "    <tr>\n",
              "      <th>4</th>\n",
              "      <td>0</td>\n",
              "      <td>-63.885255</td>\n",
              "      <td>0.590667</td>\n",
              "      <td>63.294587</td>\n",
              "      <td>0.180451</td>\n",
              "      <td>-0.591501</td>\n",
              "      <td>0.411050</td>\n",
              "    </tr>\n",
              "  </tbody>\n",
              "</table>\n",
              "</div>\n",
              "    <div class=\"colab-df-buttons\">\n",
              "\n",
              "  <div class=\"colab-df-container\">\n",
              "    <button class=\"colab-df-convert\" onclick=\"convertToInteractive('df-18c109f8-b70b-4f27-ba28-82be4c59ef8a')\"\n",
              "            title=\"Convert this dataframe to an interactive table.\"\n",
              "            style=\"display:none;\">\n",
              "\n",
              "  <svg xmlns=\"http://www.w3.org/2000/svg\" height=\"24px\" viewBox=\"0 -960 960 960\">\n",
              "    <path d=\"M120-120v-720h720v720H120Zm60-500h600v-160H180v160Zm220 220h160v-160H400v160Zm0 220h160v-160H400v160ZM180-400h160v-160H180v160Zm440 0h160v-160H620v160ZM180-180h160v-160H180v160Zm440 0h160v-160H620v160Z\"/>\n",
              "  </svg>\n",
              "    </button>\n",
              "\n",
              "  <style>\n",
              "    .colab-df-container {\n",
              "      display:flex;\n",
              "      gap: 12px;\n",
              "    }\n",
              "\n",
              "    .colab-df-convert {\n",
              "      background-color: #E8F0FE;\n",
              "      border: none;\n",
              "      border-radius: 50%;\n",
              "      cursor: pointer;\n",
              "      display: none;\n",
              "      fill: #1967D2;\n",
              "      height: 32px;\n",
              "      padding: 0 0 0 0;\n",
              "      width: 32px;\n",
              "    }\n",
              "\n",
              "    .colab-df-convert:hover {\n",
              "      background-color: #E2EBFA;\n",
              "      box-shadow: 0px 1px 2px rgba(60, 64, 67, 0.3), 0px 1px 3px 1px rgba(60, 64, 67, 0.15);\n",
              "      fill: #174EA6;\n",
              "    }\n",
              "\n",
              "    .colab-df-buttons div {\n",
              "      margin-bottom: 4px;\n",
              "    }\n",
              "\n",
              "    [theme=dark] .colab-df-convert {\n",
              "      background-color: #3B4455;\n",
              "      fill: #D2E3FC;\n",
              "    }\n",
              "\n",
              "    [theme=dark] .colab-df-convert:hover {\n",
              "      background-color: #434B5C;\n",
              "      box-shadow: 0px 1px 3px 1px rgba(0, 0, 0, 0.15);\n",
              "      filter: drop-shadow(0px 1px 2px rgba(0, 0, 0, 0.3));\n",
              "      fill: #FFFFFF;\n",
              "    }\n",
              "  </style>\n",
              "\n",
              "    <script>\n",
              "      const buttonEl =\n",
              "        document.querySelector('#df-18c109f8-b70b-4f27-ba28-82be4c59ef8a button.colab-df-convert');\n",
              "      buttonEl.style.display =\n",
              "        google.colab.kernel.accessAllowed ? 'block' : 'none';\n",
              "\n",
              "      async function convertToInteractive(key) {\n",
              "        const element = document.querySelector('#df-18c109f8-b70b-4f27-ba28-82be4c59ef8a');\n",
              "        const dataTable =\n",
              "          await google.colab.kernel.invokeFunction('convertToInteractive',\n",
              "                                                    [key], {});\n",
              "        if (!dataTable) return;\n",
              "\n",
              "        const docLinkHtml = 'Like what you see? Visit the ' +\n",
              "          '<a target=\"_blank\" href=https://colab.research.google.com/notebooks/data_table.ipynb>data table notebook</a>'\n",
              "          + ' to learn more about interactive tables.';\n",
              "        element.innerHTML = '';\n",
              "        dataTable['output_type'] = 'display_data';\n",
              "        await google.colab.output.renderOutput(dataTable, element);\n",
              "        const docLink = document.createElement('div');\n",
              "        docLink.innerHTML = docLinkHtml;\n",
              "        element.appendChild(docLink);\n",
              "      }\n",
              "    </script>\n",
              "  </div>\n",
              "\n",
              "\n",
              "    <div id=\"df-7752bd74-488f-4b18-af96-5aaea2b40309\">\n",
              "      <button class=\"colab-df-quickchart\" onclick=\"quickchart('df-7752bd74-488f-4b18-af96-5aaea2b40309')\"\n",
              "                title=\"Suggest charts\"\n",
              "                style=\"display:none;\">\n",
              "\n",
              "<svg xmlns=\"http://www.w3.org/2000/svg\" height=\"24px\"viewBox=\"0 0 24 24\"\n",
              "     width=\"24px\">\n",
              "    <g>\n",
              "        <path d=\"M19 3H5c-1.1 0-2 .9-2 2v14c0 1.1.9 2 2 2h14c1.1 0 2-.9 2-2V5c0-1.1-.9-2-2-2zM9 17H7v-7h2v7zm4 0h-2V7h2v10zm4 0h-2v-4h2v4z\"/>\n",
              "    </g>\n",
              "</svg>\n",
              "      </button>\n",
              "\n",
              "<style>\n",
              "  .colab-df-quickchart {\n",
              "      --bg-color: #E8F0FE;\n",
              "      --fill-color: #1967D2;\n",
              "      --hover-bg-color: #E2EBFA;\n",
              "      --hover-fill-color: #174EA6;\n",
              "      --disabled-fill-color: #AAA;\n",
              "      --disabled-bg-color: #DDD;\n",
              "  }\n",
              "\n",
              "  [theme=dark] .colab-df-quickchart {\n",
              "      --bg-color: #3B4455;\n",
              "      --fill-color: #D2E3FC;\n",
              "      --hover-bg-color: #434B5C;\n",
              "      --hover-fill-color: #FFFFFF;\n",
              "      --disabled-bg-color: #3B4455;\n",
              "      --disabled-fill-color: #666;\n",
              "  }\n",
              "\n",
              "  .colab-df-quickchart {\n",
              "    background-color: var(--bg-color);\n",
              "    border: none;\n",
              "    border-radius: 50%;\n",
              "    cursor: pointer;\n",
              "    display: none;\n",
              "    fill: var(--fill-color);\n",
              "    height: 32px;\n",
              "    padding: 0;\n",
              "    width: 32px;\n",
              "  }\n",
              "\n",
              "  .colab-df-quickchart:hover {\n",
              "    background-color: var(--hover-bg-color);\n",
              "    box-shadow: 0 1px 2px rgba(60, 64, 67, 0.3), 0 1px 3px 1px rgba(60, 64, 67, 0.15);\n",
              "    fill: var(--button-hover-fill-color);\n",
              "  }\n",
              "\n",
              "  .colab-df-quickchart-complete:disabled,\n",
              "  .colab-df-quickchart-complete:disabled:hover {\n",
              "    background-color: var(--disabled-bg-color);\n",
              "    fill: var(--disabled-fill-color);\n",
              "    box-shadow: none;\n",
              "  }\n",
              "\n",
              "  .colab-df-spinner {\n",
              "    border: 2px solid var(--fill-color);\n",
              "    border-color: transparent;\n",
              "    border-bottom-color: var(--fill-color);\n",
              "    animation:\n",
              "      spin 1s steps(1) infinite;\n",
              "  }\n",
              "\n",
              "  @keyframes spin {\n",
              "    0% {\n",
              "      border-color: transparent;\n",
              "      border-bottom-color: var(--fill-color);\n",
              "      border-left-color: var(--fill-color);\n",
              "    }\n",
              "    20% {\n",
              "      border-color: transparent;\n",
              "      border-left-color: var(--fill-color);\n",
              "      border-top-color: var(--fill-color);\n",
              "    }\n",
              "    30% {\n",
              "      border-color: transparent;\n",
              "      border-left-color: var(--fill-color);\n",
              "      border-top-color: var(--fill-color);\n",
              "      border-right-color: var(--fill-color);\n",
              "    }\n",
              "    40% {\n",
              "      border-color: transparent;\n",
              "      border-right-color: var(--fill-color);\n",
              "      border-top-color: var(--fill-color);\n",
              "    }\n",
              "    60% {\n",
              "      border-color: transparent;\n",
              "      border-right-color: var(--fill-color);\n",
              "    }\n",
              "    80% {\n",
              "      border-color: transparent;\n",
              "      border-right-color: var(--fill-color);\n",
              "      border-bottom-color: var(--fill-color);\n",
              "    }\n",
              "    90% {\n",
              "      border-color: transparent;\n",
              "      border-bottom-color: var(--fill-color);\n",
              "    }\n",
              "  }\n",
              "</style>\n",
              "\n",
              "      <script>\n",
              "        async function quickchart(key) {\n",
              "          const quickchartButtonEl =\n",
              "            document.querySelector('#' + key + ' button');\n",
              "          quickchartButtonEl.disabled = true;  // To prevent multiple clicks.\n",
              "          quickchartButtonEl.classList.add('colab-df-spinner');\n",
              "          try {\n",
              "            const charts = await google.colab.kernel.invokeFunction(\n",
              "                'suggestCharts', [key], {});\n",
              "          } catch (error) {\n",
              "            console.error('Error during call to suggestCharts:', error);\n",
              "          }\n",
              "          quickchartButtonEl.classList.remove('colab-df-spinner');\n",
              "          quickchartButtonEl.classList.add('colab-df-quickchart-complete');\n",
              "        }\n",
              "        (() => {\n",
              "          let quickchartButtonEl =\n",
              "            document.querySelector('#df-7752bd74-488f-4b18-af96-5aaea2b40309 button');\n",
              "          quickchartButtonEl.style.display =\n",
              "            google.colab.kernel.accessAllowed ? 'block' : 'none';\n",
              "        })();\n",
              "      </script>\n",
              "    </div>\n",
              "\n",
              "    </div>\n",
              "  </div>\n"
            ],
            "application/vnd.google.colaboratory.intrinsic+json": {
              "type": "dataframe",
              "variable_name": "df",
              "summary": "{\n  \"name\": \"df\",\n  \"rows\": 12001,\n  \"fields\": [\n    {\n      \"column\": \"Output (S)\",\n      \"properties\": {\n        \"dtype\": \"number\",\n        \"std\": 0,\n        \"min\": 0,\n        \"max\": 1,\n        \"num_unique_values\": 2,\n        \"samples\": [\n          1,\n          0\n        ],\n        \"semantic_type\": \"\",\n        \"description\": \"\"\n      }\n    },\n    {\n      \"column\": \"Ia\",\n      \"properties\": {\n        \"dtype\": \"number\",\n        \"std\": 377.1584696606427,\n        \"min\": -883.5423165,\n        \"max\": 885.7385707,\n        \"num_unique_values\": 12001,\n        \"samples\": [\n          -3.616197874,\n          664.4536614\n        ],\n        \"semantic_type\": \"\",\n        \"description\": \"\"\n      }\n    },\n    {\n      \"column\": \"Ib\",\n      \"properties\": {\n        \"dtype\": \"number\",\n        \"std\": 357.45861265833565,\n        \"min\": -900.5269515,\n        \"max\": 889.8688838,\n        \"num_unique_values\": 12001,\n        \"samples\": [\n          54.90147399,\n          -841.3494391\n        ],\n        \"semantic_type\": \"\",\n        \"description\": \"\"\n      }\n    },\n    {\n      \"column\": \"Ic\",\n      \"properties\": {\n        \"dtype\": \"number\",\n        \"std\": 302.05280885125353,\n        \"min\": -883.3577621,\n        \"max\": 901.2742607,\n        \"num_unique_values\": 12001,\n        \"samples\": [\n          -54.9612497,\n          -26.12632658\n        ],\n        \"semantic_type\": \"\",\n        \"description\": \"\"\n      }\n    },\n    {\n      \"column\": \"Va\",\n      \"properties\": {\n        \"dtype\": \"number\",\n        \"std\": 0.3462208166683564,\n        \"min\": -0.62074797,\n        \"max\": 0.609863587,\n        \"num_unique_values\": 11996,\n        \"samples\": [\n          -0.421158238,\n          0.444234389\n        ],\n        \"semantic_type\": \"\",\n        \"description\": \"\"\n      }\n    },\n    {\n      \"column\": \"Vb\",\n      \"properties\": {\n        \"dtype\": \"number\",\n        \"std\": 0.3576435032292448,\n        \"min\": -0.659920931,\n        \"max\": 0.627874757,\n        \"num_unique_values\": 11813,\n        \"samples\": [\n          0.45370005,\n          -0.12368055\n        ],\n        \"semantic_type\": \"\",\n        \"description\": \"\"\n      }\n    },\n    {\n      \"column\": \"Vc\",\n      \"properties\": {\n        \"dtype\": \"number\",\n        \"std\": 0.34927187675497695,\n        \"min\": -0.612709171,\n        \"max\": 0.608242799,\n        \"num_unique_values\": 11987,\n        \"samples\": [\n          -0.05057768,\n          -0.598466853\n        ],\n        \"semantic_type\": \"\",\n        \"description\": \"\"\n      }\n    }\n  ]\n}"
            }
          },
          "metadata": {},
          "execution_count": 9
        }
      ]
    },
    {
      "cell_type": "code",
      "source": [
        "# Define input features and output label\n",
        "X = df.drop(columns=['Output (S)'])\n",
        "y = df['Output (S)']\n",
        "\n",
        "# Print to confirm\n",
        "print(\"✅ Features shape:\", X.shape)\n",
        "print(\"✅ Target shape:\", y.shape)\n"
      ],
      "metadata": {
        "colab": {
          "base_uri": "https://localhost:8080/"
        },
        "id": "6MFKvxNGWr60",
        "outputId": "093a3afc-9302-4131-fd0b-e5fcfcc369c6"
      },
      "execution_count": 10,
      "outputs": [
        {
          "output_type": "stream",
          "name": "stdout",
          "text": [
            "✅ Features shape: (12001, 6)\n",
            "✅ Target shape: (12001,)\n"
          ]
        }
      ]
    },
    {
      "cell_type": "code",
      "source": [
        "from sklearn.preprocessing import StandardScaler\n",
        "from sklearn.model_selection import train_test_split\n",
        "\n",
        "# Normalize feature data\n",
        "scaler = StandardScaler()\n",
        "X_scaled = scaler.fit_transform(X)\n",
        "\n",
        "# Split into training and testing\n",
        "X_train, X_test, y_train, y_test = train_test_split(X_scaled, y, test_size=0.2, random_state=42)\n",
        "\n",
        "# Confirm shapes\n",
        "print(\"X_train shape:\", X_train.shape)\n",
        "print(\"y_train shape:\", y_train.shape)\n"
      ],
      "metadata": {
        "colab": {
          "base_uri": "https://localhost:8080/"
        },
        "id": "5iLhfaVpBIDi",
        "outputId": "b1971fc3-971a-4a53-cc57-f37431e15569"
      },
      "execution_count": 11,
      "outputs": [
        {
          "output_type": "stream",
          "name": "stdout",
          "text": [
            "X_train shape: (9600, 6)\n",
            "y_train shape: (9600,)\n"
          ]
        }
      ]
    },
    {
      "cell_type": "code",
      "source": [
        "from sklearn.ensemble import RandomForestClassifier\n",
        "from sklearn.metrics import classification_report, confusion_matrix, accuracy_score\n",
        "import seaborn as sns\n",
        "import matplotlib.pyplot as plt\n",
        "\n",
        "# Train the model\n",
        "model = RandomForestClassifier(random_state=42)\n",
        "model.fit(X_train, y_train)\n",
        "\n",
        "# Predict on test data\n",
        "y_pred = model.predict(X_test)\n",
        "\n",
        "# Evaluate\n",
        "print(\"✅ Accuracy Score:\", accuracy_score(y_test, y_pred))\n",
        "print(\"\\n🧾 Classification Report:\\n\", classification_report(y_test, y_pred))\n",
        "\n",
        "# Confusion matrix\n",
        "cm = confusion_matrix(y_test, y_pred)\n",
        "plt.figure(figsize=(5,4))\n",
        "sns.heatmap(cm, annot=True, fmt=\"d\", cmap=\"Blues\", xticklabels=[\"Normal\", \"Fault\"], yticklabels=[\"Normal\", \"Fault\"])\n",
        "plt.xlabel(\"Predicted\")\n",
        "plt.ylabel(\"Actual\")\n",
        "plt.title(\"🔍 Confusion Matrix\")\n",
        "plt.show()\n"
      ],
      "metadata": {
        "colab": {
          "base_uri": "https://localhost:8080/",
          "height": 673
        },
        "id": "5ywhD0EVBplI",
        "outputId": "8e39c7c2-c4ce-43af-de59-654c76d09eab"
      },
      "execution_count": 12,
      "outputs": [
        {
          "output_type": "stream",
          "name": "stdout",
          "text": [
            "✅ Accuracy Score: 0.9979175343606831\n",
            "\n",
            "🧾 Classification Report:\n",
            "               precision    recall  f1-score   support\n",
            "\n",
            "           0       1.00      1.00      1.00      1306\n",
            "           1       1.00      1.00      1.00      1095\n",
            "\n",
            "    accuracy                           1.00      2401\n",
            "   macro avg       1.00      1.00      1.00      2401\n",
            "weighted avg       1.00      1.00      1.00      2401\n",
            "\n"
          ]
        },
        {
          "output_type": "stream",
          "name": "stderr",
          "text": [
            "/usr/local/lib/python3.11/dist-packages/IPython/core/pylabtools.py:151: UserWarning: Glyph 128269 (\\N{LEFT-POINTING MAGNIFYING GLASS}) missing from font(s) DejaVu Sans.\n",
            "  fig.canvas.print_figure(bytes_io, **kw)\n"
          ]
        },
        {
          "output_type": "display_data",
          "data": {
            "text/plain": [
              "<Figure size 500x400 with 2 Axes>"
            ],
            "image/png": "[encoded data removed]"
          },
          "metadata": {}
        }
      ]
    },
    {
      "cell_type": "code",
      "source": [
        "from sklearn.svm import SVC\n",
        "\n",
        "svm_model = SVC(kernel='rbf', random_state=42)\n",
        "svm_model.fit(X_train, y_train)\n",
        "y_pred_svm = svm_model.predict(X_test)\n",
        "\n",
        "print(\"✅ SVM Accuracy:\", accuracy_score(y_test, y_pred_svm))\n",
        "print(\"\\n🧾 Classification Report:\\n\", classification_report(y_test, y_pred_svm))\n"
      ],
      "metadata": {
        "id": "QRsoAeHujCY2",
        "colab": {
          "base_uri": "https://localhost:8080/"
        },
        "outputId": "b81c3ae3-a9d2-4cac-a1ec-def04c2a9340"
      },
      "execution_count": 13,
      "outputs": [
        {
          "output_type": "stream",
          "name": "stdout",
          "text": [
            "✅ SVM Accuracy: 0.9837567680133278\n",
            "\n",
            "🧾 Classification Report:\n",
            "               precision    recall  f1-score   support\n",
            "\n",
            "           0       0.97      1.00      0.99      1306\n",
            "           1       1.00      0.97      0.98      1095\n",
            "\n",
            "    accuracy                           0.98      2401\n",
            "   macro avg       0.99      0.98      0.98      2401\n",
            "weighted avg       0.98      0.98      0.98      2401\n",
            "\n"
          ]
        }
      ]
    },
    {
      "cell_type": "code",
      "source": [
        "!pip install xgboost\n"
      ],
      "metadata": {
        "colab": {
          "base_uri": "https://localhost:8080/"
        },
        "id": "LDTdG2V7lQuC",
        "outputId": "6986cc69-c7a6-461f-c47f-81583f268c52"
      },
      "execution_count": 14,
      "outputs": [
        {
          "output_type": "stream",
          "name": "stdout",
          "text": [
            "Requirement already satisfied: xgboost in /usr/local/lib/python3.11/dist-packages (2.1.4)\n",
            "Requirement already satisfied: numpy in /usr/local/lib/python3.11/dist-packages (from xgboost) (2.0.2)\n",
            "Requirement already satisfied: nvidia-nccl-cu12 in /usr/local/lib/python3.11/dist-packages (from xgboost) (2.21.5)\n",
            "Requirement already satisfied: scipy in /usr/local/lib/python3.11/dist-packages (from xgboost) (1.15.3)\n"
          ]
        }
      ]
    },
    {
      "cell_type": "code",
      "source": [
        "import xgboost as xgb\n",
        "from sklearn.metrics import classification_report, accuracy_score\n",
        "\n",
        "# Create and train XGBoost classifier\n",
        "xgb_model = xgb.XGBClassifier(use_label_encoder=False, eval_metric='logloss', random_state=42)\n",
        "xgb_model.fit(X_train, y_train)\n",
        "\n",
        "# Predict\n",
        "y_pred_xgb = xgb_model.predict(X_test)\n",
        "\n",
        "# Evaluate\n",
        "xgb_accuracy = accuracy_score(y_test, y_pred_xgb)\n",
        "print(\"✅ XGBoost Accuracy:\", xgb_accuracy)\n",
        "print(\"\\n🧾 Classification Report:\\n\", classification_report(y_test, y_pred_xgb))\n"
      ],
      "metadata": {
        "colab": {
          "base_uri": "https://localhost:8080/"
        },
        "id": "qL2-m9mxlYth",
        "outputId": "c8360c33-53df-43b2-89d2-cb5aac59366c"
      },
      "execution_count": 15,
      "outputs": [
        {
          "output_type": "stream",
          "name": "stderr",
          "text": [
            "/usr/local/lib/python3.11/dist-packages/xgboost/core.py:158: UserWarning: [06:17:25] WARNING: /workspace/src/learner.cc:740: \n",
            "Parameters: { \"use_label_encoder\" } are not used.\n",
            "\n",
            "  warnings.warn(smsg, UserWarning)\n"
          ]
        },
        {
          "output_type": "stream",
          "name": "stdout",
          "text": [
            "✅ XGBoost Accuracy: 0.9975010412328197\n",
            "\n",
            "🧾 Classification Report:\n",
            "               precision    recall  f1-score   support\n",
            "\n",
            "           0       1.00      1.00      1.00      1306\n",
            "           1       1.00      1.00      1.00      1095\n",
            "\n",
            "    accuracy                           1.00      2401\n",
            "   macro avg       1.00      1.00      1.00      2401\n",
            "weighted avg       1.00      1.00      1.00      2401\n",
            "\n"
          ]
        }
      ]
    },
    {
      "cell_type": "code",
      "source": [
        "import matplotlib.pyplot as plt\n",
        "\n",
        "# Final model names and scores\n",
        "models = ['Random Forest', 'XGBoost', 'SVM']\n",
        "accuracies = [0.9979, 0.9975, 0.9838]  # Replace with exact values if different\n",
        "\n",
        "# Plotting\n",
        "plt.figure(figsize=(8, 5))\n",
        "bars = plt.bar(models, accuracies, color=['green', 'orange', 'blue'])\n",
        "plt.ylim(0.95, 1.01)\n",
        "plt.ylabel(\"Accuracy Score\")\n",
        "plt.title(\"✅ Final Model Comparison: Smart Power Fault Classification\")\n",
        "\n",
        "# Annotate values\n",
        "for bar, acc in zip(bars, accuracies):\n",
        "    plt.text(bar.get_x() + bar.get_width()/2, acc - 0.004, f'{acc:.4f}',\n",
        "             ha='center', color='white', fontsize=12, fontweight='bold')\n",
        "\n",
        "plt.show()\n"
      ],
      "metadata": {
        "colab": {
          "base_uri": "https://localhost:8080/",
          "height": 523
        },
        "id": "oD_y_ggclkZK",
        "outputId": "d1e5177f-0f5d-45fb-a202-e09793a6d211"
      },
      "execution_count": 16,
      "outputs": [
        {
          "output_type": "stream",
          "name": "stderr",
          "text": [
            "/usr/local/lib/python3.11/dist-packages/IPython/core/pylabtools.py:151: UserWarning: Glyph 9989 (\\N{WHITE HEAVY CHECK MARK}) missing from font(s) DejaVu Sans.\n",
            "  fig.canvas.print_figure(bytes_io, **kw)\n"
          ]
        },
        {
          "output_type": "display_data",
          "data": {
            "text/plain": [
              "<Figure size 800x500 with 1 Axes>"
            ],
            "image/png": "[encoded data removed]"
          },
          "metadata": {}
        }
      ]
    }
  ]
}